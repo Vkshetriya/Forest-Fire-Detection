{
 "cells": [
  {
   "cell_type": "code",
   "execution_count": null,
   "id": "df2c7d2e-94f0-4643-9c9b-735fab446dbc",
   "metadata": {},
   "outputs": [],
   "source": [
    "\n"
   ]
  },
  {
   "cell_type": "code",
   "execution_count": null,
   "id": "ab9ef426-d9d2-4719-93c1-03438947c640",
   "metadata": {},
   "outputs": [],
   "source": [
    "\n",
    "\n"
   ]
  },
  {
   "cell_type": "code",
   "execution_count": null,
   "id": "5db6b7cb-84fa-44b4-8a66-7d53a2610a20",
   "metadata": {},
   "outputs": [],
   "source": [
    "\n"
   ]
  },
  {
   "cell_type": "code",
   "execution_count": 1,
   "id": "b8feed40-72ec-4267-b495-3f211884c707",
   "metadata": {},
   "outputs": [
    {
     "name": "stdout",
     "output_type": "stream",
     "text": [
      "Python 3.11.8\n"
     ]
    }
   ],
   "source": [
    "!python --version\n"
   ]
  },
  {
   "cell_type": "code",
   "execution_count": 33,
   "id": "7b7c67c4-4a70-4f9c-b202-2fc9b08234fe",
   "metadata": {},
   "outputs": [],
   "source": [
    "# !pip install --upgrade pip\n"
   ]
  },
  {
   "cell_type": "code",
   "execution_count": 30,
   "id": "3fa7d7db-01bb-4986-8cc7-19b4ce5401bc",
   "metadata": {},
   "outputs": [
    {
     "name": "stdout",
     "output_type": "stream",
     "text": [
      "Requirement already satisfied: keras in d:\\python311\\lib\\site-packages (2.15.0)\n",
      "Note: you may need to restart the kernel to use updated packages.\n"
     ]
    }
   ],
   "source": [
    "pip install keras"
   ]
  },
  {
   "cell_type": "code",
   "execution_count": 31,
   "id": "3aabef65-3f9a-4b43-b92c-163dbb567274",
   "metadata": {},
   "outputs": [
    {
     "name": "stdout",
     "output_type": "stream",
     "text": [
      "Requirement already satisfied: np_utils in d:\\python311\\lib\\site-packages (0.6.0)\n",
      "Requirement already satisfied: numpy>=1.0 in d:\\python311\\lib\\site-packages (from np_utils) (1.26.4)\n",
      "Note: you may need to restart the kernel to use updated packages.\n"
     ]
    }
   ],
   "source": [
    "pip install np_utils"
   ]
  },
  {
   "cell_type": "code",
   "execution_count": 32,
   "id": "255bc637-a680-4606-8b54-db08398c39ae",
   "metadata": {},
   "outputs": [],
   "source": [
    "# pip install opencv-python\n"
   ]
  },
  {
   "cell_type": "code",
   "execution_count": 43,
   "id": "a4aa59eb-5649-4326-abb0-22a3beed28bd",
   "metadata": {},
   "outputs": [],
   "source": [
    "#from keras.utils import np_utils\n",
    "#from tensorflow.keras.utils import to_categorical\n",
    "#from tensorflow.python.keras.utils import np_utils\n"
   ]
  },
  {
   "cell_type": "code",
   "execution_count": 2,
   "id": "4b9c1ba2-5053-4be8-9f67-74f0e50f97e7",
   "metadata": {},
   "outputs": [],
   "source": [
    "import os\n",
    "import cv2\n",
    "import numpy as np\n",
    "import matplotlib.pyplot as plt\n",
    "from tensorflow.python.keras.utils import np_utils\n",
    "from tensorflow.keras.utils import to_categorical\n",
    "from tensorflow.keras.optimizers import SGD\n",
    "from sklearn.model_selection import train_test_split\n",
    "from tensorflow.keras.models import Sequential\n",
    "from tensorflow.keras.models import Sequential,load_model\n",
    "from tensorflow.keras.preprocessing.image import ImageDataGenerator\n",
    "from tensorflow.keras.layers import BatchNormalization,Dense,SeparableConv2D,MaxPooling2D,Activation,Flatten,Dropout\n"
   ]
  },
  {
   "cell_type": "code",
   "execution_count": 2,
   "id": "62fae144-c429-46f3-82ec-253b8b638e72",
   "metadata": {},
   "outputs": [],
   "source": [
    "INIT_LR = 0.1\n",
    "BATCH_SIZE = 64\n",
    "NUM_EPOCHS = 50\n",
    "lr_find = True\n",
    "classes = ['Non_Fire','Fire']"
   ]
  },
  {
   "cell_type": "code",
   "execution_count": 3,
   "id": "857f3b75-3ebd-4212-8966-f62773880e57",
   "metadata": {},
   "outputs": [],
   "source": [
    "images = []\n",
    "labels = []\n",
    "# f'C:/Users/Hp/Documents/Image dataset/'+c\n",
    "for c in classes:\n",
    "    try:\n",
    "        for img in os.listdir('Image Dataset/'+c):\n",
    "            img = cv2.imread('Image Dataset/'+c+'/'+img)\n",
    "            \n",
    "            img = cv2.resize(img,(128,128))\n",
    "            images.append(img)\n",
    "            labels.append([0,1][c=='Fire'])\n",
    "    except:\n",
    "        pass\n",
    "    \n",
    "images = np.array(images,dtype='float32')/255."
   ]
  },
  {
   "cell_type": "code",
   "execution_count": 4,
   "id": "cdb47b1d-2e39-48c1-b90a-363839f78376",
   "metadata": {},
   "outputs": [
    {
     "name": "stdout",
     "output_type": "stream",
     "text": [
      "Loaded 4127 images\n"
     ]
    }
   ],
   "source": [
    "print(f\"Loaded {len(images)} images\")"
   ]
  },
  {
   "cell_type": "code",
   "execution_count": 5,
   "id": "d0b6e83e-a04b-4799-8cef-bbad61b2d544",
   "metadata": {},
   "outputs": [],
   "source": [
    "ind = np.random.randint(0,len(images))\n",
    "cv2.imshow(str(labels[ind]),images[ind])\n",
    "cv2.waitKey(0)\n",
    "cv2.destroyAllWindows()"
   ]
  },
  {
   "cell_type": "code",
   "execution_count": 6,
   "id": "6f3337d1-2ae7-4fa4-980f-c95fa8d702b0",
   "metadata": {},
   "outputs": [],
   "source": [
    "labels = np.array(labels)\n",
    "labels = np_utils.to_categorical(labels,num_classes=2)"
   ]
  },
  {
   "cell_type": "code",
   "execution_count": 7,
   "id": "b0d432c9-2719-46f8-839b-d193fadd19eb",
   "metadata": {},
   "outputs": [],
   "source": [
    "d = {}\n",
    "\n",
    "classTotals = labels.sum(axis=0)\n",
    "classWeight = classTotals.max() / classTotals\n",
    "\n",
    "d[0] = classWeight[0]\n",
    "d[1] = classWeight[1]"
   ]
  },
  {
   "cell_type": "code",
   "execution_count": 8,
   "id": "b74efb2c-9896-43a3-84e8-88d7cbd086ff",
   "metadata": {},
   "outputs": [],
   "source": [
    "X_train, X_test, y_train, y_test = train_test_split(images, labels, test_size=0.25, shuffle=True, random_state=42)"
   ]
  },
  {
   "cell_type": "code",
   "execution_count": 9,
   "id": "9a91f9ba-f974-46a9-9bf3-483729c6cc6d",
   "metadata": {},
   "outputs": [],
   "source": [
    "aug = ImageDataGenerator(\n",
    "    rotation_range=30,\n",
    "    zoom_range=0.15,\n",
    "    width_shift_range=0.2,\n",
    "    height_shift_range=0.2,\n",
    "    shear_range=0.15,\n",
    "    horizontal_flip=True,\n",
    "    fill_mode=\"nearest\")"
   ]
  },
  {
   "cell_type": "code",
   "execution_count": 10,
   "id": "7a07c62d-aa8f-499b-80fb-d59706bc4058",
   "metadata": {},
   "outputs": [
    {
     "name": "stdout",
     "output_type": "stream",
     "text": [
      "WARNING:tensorflow:From D:\\Python311\\Lib\\site-packages\\keras\\src\\backend.py:873: The name tf.get_default_graph is deprecated. Please use tf.compat.v1.get_default_graph instead.\n",
      "\n",
      "WARNING:tensorflow:From D:\\Python311\\Lib\\site-packages\\keras\\src\\layers\\normalization\\batch_normalization.py:979: The name tf.nn.fused_batch_norm is deprecated. Please use tf.compat.v1.nn.fused_batch_norm instead.\n",
      "\n",
      "Model: \"sequential\"\n",
      "_________________________________________________________________\n",
      " Layer (type)                Output Shape              Param #   \n",
      "=================================================================\n",
      " separable_conv2d (Separabl  (None, 128, 128, 16)      211       \n",
      " eConv2D)                                                        \n",
      "                                                                 \n",
      " activation (Activation)     (None, 128, 128, 16)      0         \n",
      "                                                                 \n",
      " batch_normalization (Batch  (None, 128, 128, 16)      64        \n",
      " Normalization)                                                  \n",
      "                                                                 \n",
      " max_pooling2d (MaxPooling2  (None, 64, 64, 16)        0         \n",
      " D)                                                              \n",
      "                                                                 \n",
      " separable_conv2d_1 (Separa  (None, 64, 64, 32)        688       \n",
      " bleConv2D)                                                      \n",
      "                                                                 \n",
      " activation_1 (Activation)   (None, 64, 64, 32)        0         \n",
      "                                                                 \n",
      " batch_normalization_1 (Bat  (None, 64, 64, 32)        128       \n",
      " chNormalization)                                                \n",
      "                                                                 \n",
      " max_pooling2d_1 (MaxPoolin  (None, 32, 32, 32)        0         \n",
      " g2D)                                                            \n",
      "                                                                 \n",
      " separable_conv2d_2 (Separa  (None, 32, 32, 64)        2400      \n",
      " bleConv2D)                                                      \n",
      "                                                                 \n",
      " activation_2 (Activation)   (None, 32, 32, 64)        0         \n",
      "                                                                 \n",
      " batch_normalization_2 (Bat  (None, 32, 32, 64)        256       \n",
      " chNormalization)                                                \n",
      "                                                                 \n",
      " separable_conv2d_3 (Separa  (None, 32, 32, 64)        4736      \n",
      " bleConv2D)                                                      \n",
      "                                                                 \n",
      " activation_3 (Activation)   (None, 32, 32, 64)        0         \n",
      "                                                                 \n",
      " batch_normalization_3 (Bat  (None, 32, 32, 64)        256       \n",
      " chNormalization)                                                \n",
      "                                                                 \n",
      " max_pooling2d_2 (MaxPoolin  (None, 16, 16, 64)        0         \n",
      " g2D)                                                            \n",
      "                                                                 \n",
      " flatten (Flatten)           (None, 16384)             0         \n",
      "                                                                 \n",
      " dense (Dense)               (None, 128)               2097280   \n",
      "                                                                 \n",
      " activation_4 (Activation)   (None, 128)               0         \n",
      "                                                                 \n",
      " batch_normalization_4 (Bat  (None, 128)               512       \n",
      " chNormalization)                                                \n",
      "                                                                 \n",
      " dropout (Dropout)           (None, 128)               0         \n",
      "                                                                 \n",
      " dense_1 (Dense)             (None, 128)               16512     \n",
      "                                                                 \n",
      " activation_5 (Activation)   (None, 128)               0         \n",
      "                                                                 \n",
      " batch_normalization_5 (Bat  (None, 128)               512       \n",
      " chNormalization)                                                \n",
      "                                                                 \n",
      " dropout_1 (Dropout)         (None, 128)               0         \n",
      "                                                                 \n",
      " dense_2 (Dense)             (None, 2)                 258       \n",
      "                                                                 \n",
      " activation_6 (Activation)   (None, 2)                 0         \n",
      "                                                                 \n",
      "=================================================================\n",
      "Total params: 2123813 (8.10 MB)\n",
      "Trainable params: 2122949 (8.10 MB)\n",
      "Non-trainable params: 864 (3.38 KB)\n",
      "_________________________________________________________________\n",
      "None\n"
     ]
    }
   ],
   "source": [
    "model = Sequential()\n",
    "\n",
    "# CONV => RELU => POOL\n",
    "model.add(SeparableConv2D(16,(7,7),padding='same',input_shape=(128,128,3)))\n",
    "model.add(Activation('relu'))\n",
    "model.add(BatchNormalization())\n",
    "model.add(MaxPooling2D(pool_size=(2,2)))\n",
    "\n",
    "# CONV => RELU => POOL\n",
    "model.add(SeparableConv2D(32,(3,3),padding='same'))\n",
    "model.add(Activation('relu'))\n",
    "model.add(BatchNormalization())\n",
    "model.add(MaxPooling2D(pool_size=(2,2)))\n",
    "\n",
    "# CONV => RELU => CONV => RELU => POOL\n",
    "model.add(SeparableConv2D(64,(3,3),padding='same'))\n",
    "model.add(Activation('relu'))\n",
    "model.add(BatchNormalization())\n",
    "model.add(SeparableConv2D(64,(3,3),padding='same'))\n",
    "model.add(Activation('relu'))\n",
    "model.add(BatchNormalization())\n",
    "model.add(MaxPooling2D(pool_size=(2,2)))\n",
    "\n",
    "# first set of FC => RELU layers\n",
    "model.add(Flatten())\n",
    "model.add(Dense(128))\n",
    "model.add(Activation('relu'))\n",
    "model.add(BatchNormalization())\n",
    "model.add(Dropout(0.5))\n",
    "\n",
    "\n",
    "# second set of FC => RELU layers\n",
    "model.add(Dense(128))\n",
    "model.add(Activation('relu'))\n",
    "model.add(BatchNormalization())\n",
    "model.add(Dropout(0.5))\n",
    "\n",
    "# softmax classifier\n",
    "model.add(Dense(len(classes)))\n",
    "model.add(Activation(\"softmax\"))\n",
    "\n",
    "# Remove the 'decay' argument\n",
    "opt = SGD(learning_rate=INIT_LR, momentum=0.9)\n",
    "\n",
    "\n",
    "model.compile(loss='binary_crossentropy',\n",
    "              optimizer=opt,\n",
    "              metrics=['accuracy'])\n",
    "\n",
    "print(model.summary())"
   ]
  },
  {
   "cell_type": "code",
   "execution_count": 10,
   "id": "e9e98903-d645-46d3-8798-4dce7d189fa6",
   "metadata": {},
   "outputs": [],
   "source": [
    "# ... your image loading and preprocessing code ...\n",
    "\n",
    "# Ensure X_train and y_train are NumPy arrays\n",
    "#X_train = np.array(X_train)\n",
    "#y_train = np.array(y_train)\n",
    "\n",
    "# Print shapes for verification\n",
    "#print(\"X_train shape:\", X_train.shape)\n",
    "#print(\"y_train shape:\", y_train.shape)\n",
    "\n"
   ]
  },
  {
   "cell_type": "code",
   "execution_count": 11,
   "id": "dc93c6bc-1e46-4df0-91a0-471e79b20343",
   "metadata": {},
   "outputs": [],
   "source": [
    "#if len(X_train) != len(y_train):\n",
    "    #print(\"Warning: X_train has different size than y_train. Check for missing labels.\")\n",
    "    # Implement logic to handle missing labels (e.g., remove corresponding images\n",
    "    # from X_train or create dummy labels)"
   ]
  },
  {
   "cell_type": "code",
   "execution_count": 11,
   "id": "e158c26f-b796-4e11-a332-9510f5b1f807",
   "metadata": {},
   "outputs": [
    {
     "name": "stdout",
     "output_type": "stream",
     "text": [
      "[INFO] training network...\n",
      "Epoch 1/50\n",
      "WARNING:tensorflow:From D:\\Python311\\Lib\\site-packages\\keras\\src\\utils\\tf_utils.py:492: The name tf.ragged.RaggedTensorValue is deprecated. Please use tf.compat.v1.ragged.RaggedTensorValue instead.\n",
      "\n",
      "WARNING:tensorflow:From D:\\Python311\\Lib\\site-packages\\keras\\src\\engine\\base_layer_utils.py:384: The name tf.executing_eagerly_outside_functions is deprecated. Please use tf.compat.v1.executing_eagerly_outside_functions instead.\n",
      "\n",
      "48/48 [==============================] - 43s 804ms/step - loss: 1.0363 - accuracy: 0.6166 - val_loss: 75.4972 - val_accuracy: 0.3285\n",
      "Epoch 2/50\n",
      "48/48 [==============================] - 39s 807ms/step - loss: 0.8609 - accuracy: 0.6777 - val_loss: 2.5196 - val_accuracy: 0.5126\n",
      "Epoch 3/50\n",
      "48/48 [==============================] - 37s 765ms/step - loss: 0.7594 - accuracy: 0.7031 - val_loss: 7.8109 - val_accuracy: 0.3285\n",
      "Epoch 4/50\n",
      "48/48 [==============================] - 37s 771ms/step - loss: 0.6633 - accuracy: 0.7384 - val_loss: 1.4998 - val_accuracy: 0.4167\n",
      "Epoch 5/50\n",
      "48/48 [==============================] - 37s 778ms/step - loss: 0.6236 - accuracy: 0.7605 - val_loss: 0.5735 - val_accuracy: 0.7016\n",
      "Epoch 6/50\n",
      "48/48 [==============================] - 273s 6s/step - loss: 0.5823 - accuracy: 0.7865 - val_loss: 0.4651 - val_accuracy: 0.7616\n",
      "Epoch 7/50\n",
      "48/48 [==============================] - 37s 759ms/step - loss: 0.6024 - accuracy: 0.7740 - val_loss: 0.4289 - val_accuracy: 0.8217\n",
      "Epoch 8/50\n",
      "48/48 [==============================] - 36s 757ms/step - loss: 0.5836 - accuracy: 0.7823 - val_loss: 0.3407 - val_accuracy: 0.8479\n",
      "Epoch 9/50\n",
      "48/48 [==============================] - 37s 774ms/step - loss: 0.5941 - accuracy: 0.7823 - val_loss: 1.0170 - val_accuracy: 0.7422\n",
      "Epoch 10/50\n",
      "48/48 [==============================] - 37s 766ms/step - loss: 0.5546 - accuracy: 0.7991 - val_loss: 0.3558 - val_accuracy: 0.8362\n",
      "Epoch 11/50\n",
      "48/48 [==============================] - 53s 1s/step - loss: 0.5334 - accuracy: 0.7984 - val_loss: 0.5911 - val_accuracy: 0.7926\n",
      "Epoch 12/50\n",
      "48/48 [==============================] - 36s 755ms/step - loss: 0.5400 - accuracy: 0.8077 - val_loss: 0.3567 - val_accuracy: 0.8275\n",
      "Epoch 13/50\n",
      "48/48 [==============================] - 37s 764ms/step - loss: 0.5193 - accuracy: 0.8113 - val_loss: 0.5811 - val_accuracy: 0.7636\n",
      "Epoch 14/50\n",
      "48/48 [==============================] - 36s 751ms/step - loss: 0.5400 - accuracy: 0.8027 - val_loss: 0.3559 - val_accuracy: 0.8372\n",
      "Epoch 15/50\n",
      "48/48 [==============================] - 36s 754ms/step - loss: 0.5367 - accuracy: 0.8057 - val_loss: 0.4307 - val_accuracy: 0.7723\n",
      "Epoch 16/50\n",
      "48/48 [==============================] - 37s 758ms/step - loss: 0.5265 - accuracy: 0.8083 - val_loss: 0.6588 - val_accuracy: 0.6473\n",
      "Epoch 17/50\n",
      "48/48 [==============================] - 36s 756ms/step - loss: 0.4974 - accuracy: 0.8238 - val_loss: 0.3220 - val_accuracy: 0.8595\n",
      "Epoch 18/50\n",
      "48/48 [==============================] - 37s 758ms/step - loss: 0.5044 - accuracy: 0.8288 - val_loss: 0.4410 - val_accuracy: 0.8062\n",
      "Epoch 19/50\n",
      "48/48 [==============================] - 37s 760ms/step - loss: 0.5039 - accuracy: 0.8301 - val_loss: 0.3927 - val_accuracy: 0.8169\n",
      "Epoch 20/50\n",
      "48/48 [==============================] - 36s 751ms/step - loss: 0.4969 - accuracy: 0.8119 - val_loss: 0.4652 - val_accuracy: 0.7975\n",
      "Epoch 21/50\n",
      "48/48 [==============================] - 36s 756ms/step - loss: 0.4758 - accuracy: 0.8337 - val_loss: 0.4256 - val_accuracy: 0.8217\n",
      "Epoch 22/50\n",
      "48/48 [==============================] - 38s 785ms/step - loss: 0.4949 - accuracy: 0.8195 - val_loss: 0.4487 - val_accuracy: 0.7781\n",
      "Epoch 23/50\n",
      "48/48 [==============================] - 39s 800ms/step - loss: 0.4822 - accuracy: 0.8298 - val_loss: 0.5075 - val_accuracy: 0.7752\n",
      "Epoch 24/50\n",
      "48/48 [==============================] - 36s 755ms/step - loss: 0.4771 - accuracy: 0.8274 - val_loss: 0.4230 - val_accuracy: 0.8159\n",
      "Epoch 25/50\n",
      "48/48 [==============================] - 37s 759ms/step - loss: 0.4760 - accuracy: 0.8360 - val_loss: 0.3151 - val_accuracy: 0.8634\n",
      "Epoch 26/50\n",
      "48/48 [==============================] - 37s 768ms/step - loss: 0.4678 - accuracy: 0.8294 - val_loss: 0.2932 - val_accuracy: 0.8702\n",
      "Epoch 27/50\n",
      "48/48 [==============================] - 37s 758ms/step - loss: 0.4263 - accuracy: 0.8588 - val_loss: 0.3343 - val_accuracy: 0.8440\n",
      "Epoch 28/50\n",
      "48/48 [==============================] - 103s 2s/step - loss: 0.4565 - accuracy: 0.8439 - val_loss: 0.4855 - val_accuracy: 0.7655\n",
      "Epoch 29/50\n",
      "48/48 [==============================] - 37s 766ms/step - loss: 0.4518 - accuracy: 0.8344 - val_loss: 0.3086 - val_accuracy: 0.8605\n",
      "Epoch 30/50\n",
      "48/48 [==============================] - 36s 753ms/step - loss: 0.4505 - accuracy: 0.8393 - val_loss: 0.2756 - val_accuracy: 0.8711\n",
      "Epoch 31/50\n",
      "48/48 [==============================] - 37s 759ms/step - loss: 0.4207 - accuracy: 0.8552 - val_loss: 0.2697 - val_accuracy: 0.8857\n",
      "Epoch 32/50\n",
      "48/48 [==============================] - 36s 757ms/step - loss: 0.4285 - accuracy: 0.8453 - val_loss: 0.4011 - val_accuracy: 0.8391\n",
      "Epoch 33/50\n",
      "48/48 [==============================] - 36s 752ms/step - loss: 0.4443 - accuracy: 0.8479 - val_loss: 0.3774 - val_accuracy: 0.8353\n",
      "Epoch 34/50\n",
      "48/48 [==============================] - 120s 3s/step - loss: 0.4171 - accuracy: 0.8618 - val_loss: 0.2890 - val_accuracy: 0.8740\n",
      "Epoch 35/50\n",
      "48/48 [==============================] - 37s 761ms/step - loss: 0.3982 - accuracy: 0.8680 - val_loss: 0.3289 - val_accuracy: 0.8488\n",
      "Epoch 36/50\n",
      "48/48 [==============================] - 36s 754ms/step - loss: 0.4357 - accuracy: 0.8515 - val_loss: 0.3935 - val_accuracy: 0.8081\n",
      "Epoch 37/50\n",
      "48/48 [==============================] - 36s 756ms/step - loss: 0.4214 - accuracy: 0.8624 - val_loss: 0.5704 - val_accuracy: 0.7548\n",
      "Epoch 38/50\n",
      "48/48 [==============================] - 36s 756ms/step - loss: 0.4107 - accuracy: 0.8647 - val_loss: 0.3401 - val_accuracy: 0.8488\n",
      "Epoch 39/50\n",
      "48/48 [==============================] - 48s 1s/step - loss: 0.3916 - accuracy: 0.8717 - val_loss: 0.2692 - val_accuracy: 0.8953\n",
      "Epoch 40/50\n",
      "48/48 [==============================] - 37s 766ms/step - loss: 0.4124 - accuracy: 0.8558 - val_loss: 0.2795 - val_accuracy: 0.8740\n",
      "Epoch 41/50\n",
      "48/48 [==============================] - 36s 752ms/step - loss: 0.3709 - accuracy: 0.8720 - val_loss: 0.2498 - val_accuracy: 0.8828\n",
      "Epoch 42/50\n",
      "48/48 [==============================] - 37s 759ms/step - loss: 0.4182 - accuracy: 0.8614 - val_loss: 0.2858 - val_accuracy: 0.8808\n",
      "Epoch 43/50\n",
      "48/48 [==============================] - 37s 758ms/step - loss: 0.3938 - accuracy: 0.8713 - val_loss: 0.3367 - val_accuracy: 0.8517\n",
      "Epoch 44/50\n",
      "48/48 [==============================] - 37s 758ms/step - loss: 0.3870 - accuracy: 0.8710 - val_loss: 0.3119 - val_accuracy: 0.8614\n",
      "Epoch 45/50\n",
      "48/48 [==============================] - 36s 752ms/step - loss: 0.4049 - accuracy: 0.8575 - val_loss: 0.2860 - val_accuracy: 0.8740\n",
      "Epoch 46/50\n",
      "48/48 [==============================] - 37s 761ms/step - loss: 0.5160 - accuracy: 0.8195 - val_loss: 1.1454 - val_accuracy: 0.7781\n",
      "Epoch 47/50\n",
      "48/48 [==============================] - 37s 767ms/step - loss: 0.4853 - accuracy: 0.8321 - val_loss: 0.4162 - val_accuracy: 0.8391\n",
      "Epoch 48/50\n",
      "48/48 [==============================] - 37s 759ms/step - loss: 0.4629 - accuracy: 0.8420 - val_loss: 0.3017 - val_accuracy: 0.8760\n",
      "Epoch 49/50\n",
      "48/48 [==============================] - 36s 755ms/step - loss: 0.4393 - accuracy: 0.8519 - val_loss: 0.3678 - val_accuracy: 0.8382\n",
      "Epoch 50/50\n",
      "48/48 [==============================] - 36s 753ms/step - loss: 0.4124 - accuracy: 0.8571 - val_loss: 0.3058 - val_accuracy: 0.8798\n",
      "[INFO] serializing network to 'output/model'...\n"
     ]
    },
    {
     "name": "stderr",
     "output_type": "stream",
     "text": [
      "D:\\Python311\\Lib\\site-packages\\keras\\src\\engine\\training.py:3103: UserWarning: You are saving your model as an HDF5 file via `model.save()`. This file format is considered legacy. We recommend using instead the native Keras format, e.g. `model.save('my_model.keras')`.\n",
      "  saving_api.save_model(\n"
     ]
    }
   ],
   "source": [
    "print(\"[INFO] training network...\")\n",
    "\n",
    "H = model.fit(\n",
    "    aug.flow(X_train, y_train, batch_size=BATCH_SIZE),\n",
    "    validation_data=(X_test, y_test),\n",
    "    steps_per_epoch=X_train.shape[0] // BATCH_SIZE,\n",
    "    epochs=NUM_EPOCHS,\n",
    "    class_weight=d,\n",
    "    verbose=1)\n",
    "\n",
    "print(\"[INFO] serializing network to '{}'...\".format('output/model'))\n",
    "model.save('output/fire_detection.h5')"
   ]
  },
  {
   "cell_type": "code",
   "execution_count": 12,
   "id": "adfe2889-8acf-4cb7-8377-32c46160e321",
   "metadata": {},
   "outputs": [
    {
     "data": {
      "image/png": "[encoded data removed]",
      "text/plain": [
       "<Figure size 1200x800 with 2 Axes>"
      ]
     },
     "metadata": {},
     "output_type": "display_data"
    }
   ],
   "source": [
    "N = np.arange(0, NUM_EPOCHS)\n",
    "\n",
    "plt.figure(figsize=(12,8))\n",
    "\n",
    "plt.subplot(121)\n",
    "plt.title(\"Losses\")\n",
    "plt.plot(N, H.history[\"loss\"], label=\"train_loss\")\n",
    "plt.plot(N, H.history[\"val_loss\"], label=\"val_loss\")\n",
    "\n",
    "plt.subplot(122)\n",
    "plt.title(\"Accuracies\")\n",
    "plt.plot(N, H.history[\"accuracy\"], label=\"train_acc\")\n",
    "plt.plot(N, H.history[\"val_accuracy\"], label=\"val_acc\")\n",
    "\n",
    "\n",
    "plt.legend()\n",
    "plt.savefig(\"output/training_plot.png\")"
   ]
  },
  {
   "cell_type": "code",
   "execution_count": 13,
   "id": "db8c29b0-b70f-44b1-8e3c-1ba6a6ddf4c7",
   "metadata": {},
   "outputs": [
    {
     "name": "stdout",
     "output_type": "stream",
     "text": [
      "[INFO] loading model...\n"
     ]
    }
   ],
   "source": [
    "   # load the trained model from disk\n",
    "print(\"[INFO] loading model...\")\n",
    "model = load_model('output/fire_detection.h5')"
   ]
  },
  {
   "cell_type": "code",
   "execution_count": 14,
   "id": "dfbb09ed-6579-403e-9f17-ed1710fd4ed0",
   "metadata": {},
   "outputs": [
    {
     "name": "stdout",
     "output_type": "stream",
     "text": [
      "1/1 [==============================] - 0s 498ms/step\n",
      "1/1 [==============================] - 0s 50ms/step\n",
      "1/1 [==============================] - 0s 57ms/step\n",
      "1/1 [==============================] - 0s 55ms/step\n",
      "1/1 [==============================] - 0s 57ms/step\n",
      "1/1 [==============================] - 0s 62ms/step\n",
      "1/1 [==============================] - 0s 59ms/step\n",
      "1/1 [==============================] - 0s 57ms/step\n",
      "1/1 [==============================] - 0s 53ms/step\n",
      "1/1 [==============================] - 0s 50ms/step\n",
      "1/1 [==============================] - 0s 62ms/step\n",
      "1/1 [==============================] - 0s 61ms/step\n",
      "1/1 [==============================] - 0s 67ms/step\n",
      "1/1 [==============================] - 0s 61ms/step\n",
      "1/1 [==============================] - 0s 56ms/step\n",
      "1/1 [==============================] - 0s 56ms/step\n",
      "1/1 [==============================] - 0s 48ms/step\n",
      "1/1 [==============================] - 0s 46ms/step\n",
      "1/1 [==============================] - 0s 55ms/step\n",
      "1/1 [==============================] - 0s 48ms/step\n",
      "1/1 [==============================] - 0s 63ms/step\n",
      "1/1 [==============================] - 0s 46ms/step\n",
      "1/1 [==============================] - 0s 45ms/step\n",
      "1/1 [==============================] - 0s 48ms/step\n",
      "1/1 [==============================] - 0s 41ms/step\n",
      "1/1 [==============================] - 0s 56ms/step\n",
      "1/1 [==============================] - 0s 53ms/step\n",
      "1/1 [==============================] - 0s 45ms/step\n",
      "1/1 [==============================] - 0s 60ms/step\n",
      "1/1 [==============================] - 0s 56ms/step\n",
      "1/1 [==============================] - 0s 51ms/step\n",
      "1/1 [==============================] - 0s 50ms/step\n",
      "1/1 [==============================] - 0s 55ms/step\n",
      "1/1 [==============================] - 0s 52ms/step\n",
      "1/1 [==============================] - 0s 49ms/step\n",
      "1/1 [==============================] - 0s 47ms/step\n",
      "1/1 [==============================] - 0s 49ms/step\n",
      "1/1 [==============================] - 0s 54ms/step\n",
      "1/1 [==============================] - 0s 50ms/step\n",
      "1/1 [==============================] - 0s 55ms/step\n",
      "1/1 [==============================] - 0s 60ms/step\n",
      "1/1 [==============================] - 0s 50ms/step\n",
      "1/1 [==============================] - 0s 46ms/step\n",
      "1/1 [==============================] - 0s 45ms/step\n",
      "1/1 [==============================] - 0s 47ms/step\n",
      "1/1 [==============================] - 0s 45ms/step\n",
      "1/1 [==============================] - 0s 54ms/step\n",
      "1/1 [==============================] - 0s 48ms/step\n",
      "1/1 [==============================] - 0s 31ms/step\n",
      "1/1 [==============================] - 0s 50ms/step\n"
     ]
    }
   ],
   "source": [
    "for i in range(50):\n",
    "    random_index = np.random.randint(0,len(X_test))\n",
    "    org_img = X_test[random_index]*255\n",
    "    img = org_img.copy()\n",
    "    img = cv2.resize(img,(128,128))\n",
    "    img = img.astype('float32')/256\n",
    "    pred = model.predict(np.expand_dims(img,axis=0))[0]\n",
    "    result = classes[np.argmax(pred)]\n",
    "    org_img = cv2.resize(org_img,(500,500))\n",
    "    cv2.putText(org_img, result, (35, 50), cv2.FONT_HERSHEY_SIMPLEX,1.25, (0, 255, 0), 3)\n",
    "    cv2.imwrite('output/testing/{}.png'.format(i),org_img)"
   ]
  },
  {
   "cell_type": "code",
   "execution_count": null,
   "id": "82e40834-1132-42ef-92a0-c43c71d34cbe",
   "metadata": {},
   "outputs": [],
   "source": []
  }
 ],
 "metadata": {
  "kernelspec": {
   "display_name": "Python 3 (ipykernel)",
   "language": "python",
   "name": "python3"
  },
  "language_info": {
   "codemirror_mode": {
    "name": "ipython",
    "version": 3
   },
   "file_extension": ".py",
   "mimetype": "text/x-python",
   "name": "python",
   "nbconvert_exporter": "python",
   "pygments_lexer": "ipython3",
   "version": "3.11.8"
  }
 },
 "nbformat": 4,
 "nbformat_minor": 5
}
